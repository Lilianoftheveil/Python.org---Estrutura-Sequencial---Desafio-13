{
 "cells": [
  {
   "cell_type": "code",
   "execution_count": null,
   "id": "f704985c",
   "metadata": {},
   "outputs": [],
   "source": [
    "Python - Lista de Exercícios (Estrutura Sequencial) \n",
    "link: https://wiki.python.org.br/EstruturaSequencial"
   ]
  },
  {
   "cell_type": "markdown",
   "id": "f36f0365",
   "metadata": {},
   "source": [
    "13) Tendo como dado de entrada a altura (h) de uma pessoa, construa um algoritmo que calcule seu peso ideal, utilizando as seguintes fórmulas: a) Para homens: (72.7h) - 58 b) Para mulheres: (62.1h) - 44.7"
   ]
  },
  {
   "cell_type": "code",
   "execution_count": null,
   "id": "291025e7",
   "metadata": {},
   "outputs": [],
   "source": [
    "Obs.: Visando desenvolver o programa de forma mais dinâmica e menos suscetível a erros, adicionei \n",
    "outras estruturas no corpo do código. De modo que apenas uma letra (M ou F) seja aceita no primeiro\n",
    "laço, e apenas números positivos durante a checagem em seguida."
   ]
  },
  {
   "cell_type": "code",
   "execution_count": null,
   "id": "eb6d47b6",
   "metadata": {},
   "outputs": [],
   "source": [
    "while True:\n",
    "  q = input(\"Qual o seu gênero? Masculino (M) ou (F) Feminino? \").upper()\n",
    "  if len(q) > 1 or q != \"M\" and q != \"F\":\n",
    "    print(\"Por favor, digite apenas uma letra (M ou F).\")\n",
    "    continue\n",
    "  else:\n",
    "     x = input(\"Altura: \")\n",
    "  try:\n",
    "    float(x)\n",
    "    if float(x) < 0:\n",
    "      print(\"Por favor, digite apenas números positivos.\")\n",
    "      continue\n",
    "    else:\n",
    "      if q == \"M\":\n",
    "        y = round((72.7 * float(x)) - 58, 2)\n",
    "        print(f\"Seu peso ideal é: {y}\")\n",
    "        break\n",
    "      elif q == \"F\":\n",
    "        z = round((62.1 * float(x)) - 44.7, 2)\n",
    "        print(f\"Seu peso ideal é: {z}\")\n",
    "        break\n",
    "  except:\n",
    "    print(\"Por favor, digite apenas números.\")\n",
    "    continue"
   ]
  }
 ],
 "metadata": {
  "kernelspec": {
   "display_name": "Python 3 (ipykernel)",
   "language": "python",
   "name": "python3"
  },
  "language_info": {
   "codemirror_mode": {
    "name": "ipython",
    "version": 3
   },
   "file_extension": ".py",
   "mimetype": "text/x-python",
   "name": "python",
   "nbconvert_exporter": "python",
   "pygments_lexer": "ipython3",
   "version": "3.8.10"
  }
 },
 "nbformat": 4,
 "nbformat_minor": 5
}
